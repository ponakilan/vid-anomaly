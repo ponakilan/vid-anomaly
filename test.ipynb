{
 "cells": [
  {
   "cell_type": "code",
   "execution_count": 5,
   "metadata": {},
   "outputs": [],
   "source": [
    "import torch\n",
    "import torch.nn as nn\n",
    "import torch.nn.functional as F\n",
    "\n",
    "class STRAttention(nn.Module):\n",
    "    def __init__(self, vit_embedding_dim, reduction_ratio=4):\n",
    "        super(STRAttention, self).__init__()\n",
    "        reduced_channels = vit_embedding_dim // reduction_ratio\n",
    "        \n",
    "        # Spatial Attention (1D since ViT outputs a sequence)\n",
    "        self.conv_s = nn.Conv1d(vit_embedding_dim, reduced_channels, kernel_size=3, padding=1)\n",
    "        self.conv1x1_s = nn.Conv1d(reduced_channels, vit_embedding_dim, kernel_size=1)\n",
    "        \n",
    "        # Temporal Attention (3D conv over time dimension)\n",
    "        self.conv_t = nn.Conv1d(vit_embedding_dim, reduced_channels, kernel_size=3, padding=1)\n",
    "        self.conv1x1_t = nn.Conv1d(reduced_channels, vit_embedding_dim, kernel_size=1)\n",
    "        \n",
    "        self.sigmoid = nn.Sigmoid()\n",
    "\n",
    "    def forward(self, vit_encodings):\n",
    "        # Input shape: (Batch, Time, Channels) from ViT encoder\n",
    "        print(vit_encodings.shape)\n",
    "        b, t, c = vit_encodings.shape\n",
    "        x = vit_encodings.permute(0, 2, 1)  # Change to (Batch, Channels, Time)\n",
    "        \n",
    "        # Spatial Attention\n",
    "        attn_s = self.conv_s(x)\n",
    "        attn_s = self.conv1x1_s(attn_s)\n",
    "        attn_s = self.sigmoid(attn_s)\n",
    "        \n",
    "        # Temporal Attention\n",
    "        attn_t = self.conv_t(x)\n",
    "        attn_t = self.conv1x1_t(attn_t)\n",
    "        attn_t = self.sigmoid(attn_t)\n",
    "        \n",
    "        # Apply attention weights\n",
    "        x = x * attn_s * attn_t\n",
    "        return x.permute(0, 2, 1)  # Back to (Batch, Time, Channels)"
   ]
  },
  {
   "cell_type": "code",
   "execution_count": 17,
   "metadata": {},
   "outputs": [],
   "source": [
    "import os\n",
    "import torch\n",
    "import timm\n",
    "import torchvision.transforms as transforms\n",
    "from PIL import Image\n",
    "from torch.utils.data import DataLoader, Dataset\n",
    "import numpy as np\n",
    "\n",
    "# Define image transformation (same as ViT expects)\n",
    "transform = transforms.Compose([\n",
    "    transforms.Resize((224, 224)),\n",
    "    transforms.ToTensor(),\n",
    "    transforms.Normalize(mean=[0.5, 0.5, 0.5], std=[0.5, 0.5, 0.5])\n",
    "])\n",
    "\n",
    "# Custom Dataset for loading images from a folder\n",
    "class ImageDataset(Dataset):\n",
    "    def __init__(self, folder_path, transform=None):\n",
    "        self.folder_path = folder_path\n",
    "        self.image_files = sorted([f for f in os.listdir(folder_path) if f.endswith(('.jpg', '.png', '.tif'))])\n",
    "        self.transform = transform\n",
    "\n",
    "    def __len__(self):\n",
    "        return len(self.image_files)\n",
    "\n",
    "    def __getitem__(self, idx):\n",
    "        img_path = os.path.join(self.folder_path, self.image_files[idx])\n",
    "        img = Image.open(img_path).convert(\"RGB\")\n",
    "        if self.transform:\n",
    "            img = self.transform(img)\n",
    "        return img, self.image_files[idx]  # Return filename as well for reference\n",
    "\n",
    "# Load pre-trained ViT for feature extraction\n",
    "vit_model = timm.create_model('vit_base_patch16_224', pretrained=True)\n",
    "vit_model.head = torch.nn.Identity()  # Remove classification head\n",
    "vit_model.eval()\n",
    "\n",
    "# Function to process images through ViT\n",
    "def extract_vit_embeddings(dataloader, device):\n",
    "    embeddings = []\n",
    "    filenames = []\n",
    "    with torch.no_grad():\n",
    "        for images, file_names in dataloader:\n",
    "            images = images.to(device)\n",
    "            features = vit_model(images)  # Extract ViT embeddings\n",
    "            embeddings.append(features.cpu().numpy())\n",
    "            filenames.extend(file_names)\n",
    "    return np.array(embeddings), filenames\n",
    "\n",
    "# Function to group frames into sequences (for temporal attention)\n",
    "def create_sequences(embeddings, seq_len=5):\n",
    "    sequences = []\n",
    "    for i in range(len(embeddings) - seq_len + 1):\n",
    "        sequences.append(embeddings[i:i + seq_len])\n",
    "    return np.array(sequences)\n",
    "\n",
    "# Full pipeline function\n",
    "def process_images_with_attention(folder_path, seq_len=5, device='cuda'):\n",
    "    device = torch.device(device if torch.cuda.is_available() else \"cpu\")\n",
    "\n",
    "    # Load dataset and create DataLoader\n",
    "    dataset = ImageDataset(folder_path, transform=transform)\n",
    "    dataloader = DataLoader(dataset, batch_size=8, shuffle=False)\n",
    "    print(len(dataset))\n",
    "\n",
    "    # Extract ViT embeddings\n",
    "    vit_embeddings, filenames = extract_vit_embeddings(dataloader, device)\n",
    "\n",
    "    # Reshape embeddings for spatiotemporal attention (Batch, Time, Channels)\n",
    "    sequences = create_sequences(vit_embeddings, seq_len)\n",
    "    sequences_tensor = torch.tensor(sequences, dtype=torch.float32).to(device)\n",
    "\n",
    "    # Initialize and apply STRAttention\n",
    "    str_attention = STRAttention(vit_embedding_dim=768).to(device)\n",
    "    with torch.no_grad():\n",
    "        output_embeddings = str_attention(sequences_tensor)\n",
    "\n",
    "    return output_embeddings.cpu().numpy(), filenames"
   ]
  },
  {
   "cell_type": "code",
   "execution_count": 18,
   "metadata": {},
   "outputs": [
    {
     "name": "stdout",
     "output_type": "stream",
     "text": [
      "['001.tif', '002.tif', '003.tif', '004.tif', '005.tif', '006.tif', '007.tif', '008.tif', '009.tif', '010.tif']\n",
      "10\n"
     ]
    },
    {
     "ename": "ValueError",
     "evalue": "setting an array element with a sequence. The requested array has an inhomogeneous shape after 1 dimensions. The detected shape was (2,) + inhomogeneous part.",
     "output_type": "error",
     "traceback": [
      "\u001b[0;31m---------------------------------------------------------------------------\u001b[0m",
      "\u001b[0;31mValueError\u001b[0m                                Traceback (most recent call last)",
      "\u001b[1;32m/home/sagemaker-user/rc/test.ipynb Cell 3\u001b[0m line \u001b[0;36m2\n\u001b[1;32m      <a href='vscode-notebook-cell://93dy3txedpeih7v.studio.us-east-2.sagemaker.aws/home/sagemaker-user/rc/test.ipynb#W2sdnNjb2RlLXJlbW90ZQ%3D%3D?line=0'>1</a>\u001b[0m folder_path \u001b[39m=\u001b[39m \u001b[39m\"\u001b[39m\u001b[39m/home/sagemaker-user/rc/data/test\u001b[39m\u001b[39m\"\u001b[39m\n\u001b[0;32m----> <a href='vscode-notebook-cell://93dy3txedpeih7v.studio.us-east-2.sagemaker.aws/home/sagemaker-user/rc/test.ipynb#W2sdnNjb2RlLXJlbW90ZQ%3D%3D?line=1'>2</a>\u001b[0m output_embeddings, filenames \u001b[39m=\u001b[39m process_images_with_attention(folder_path)\n\u001b[1;32m      <a href='vscode-notebook-cell://93dy3txedpeih7v.studio.us-east-2.sagemaker.aws/home/sagemaker-user/rc/test.ipynb#W2sdnNjb2RlLXJlbW90ZQ%3D%3D?line=3'>4</a>\u001b[0m \u001b[39mprint\u001b[39m(\u001b[39m\"\u001b[39m\u001b[39mProcessed embeddings shape:\u001b[39m\u001b[39m\"\u001b[39m, output_embeddings\u001b[39m.\u001b[39mshape)\n",
      "\u001b[1;32m/home/sagemaker-user/rc/test.ipynb Cell 3\u001b[0m line \u001b[0;36m6\n\u001b[1;32m     <a href='vscode-notebook-cell://93dy3txedpeih7v.studio.us-east-2.sagemaker.aws/home/sagemaker-user/rc/test.ipynb#W2sdnNjb2RlLXJlbW90ZQ%3D%3D?line=64'>65</a>\u001b[0m \u001b[39mprint\u001b[39m(\u001b[39mlen\u001b[39m(dataset))\n\u001b[1;32m     <a href='vscode-notebook-cell://93dy3txedpeih7v.studio.us-east-2.sagemaker.aws/home/sagemaker-user/rc/test.ipynb#W2sdnNjb2RlLXJlbW90ZQ%3D%3D?line=66'>67</a>\u001b[0m \u001b[39m# Extract ViT embeddings\u001b[39;00m\n\u001b[0;32m---> <a href='vscode-notebook-cell://93dy3txedpeih7v.studio.us-east-2.sagemaker.aws/home/sagemaker-user/rc/test.ipynb#W2sdnNjb2RlLXJlbW90ZQ%3D%3D?line=67'>68</a>\u001b[0m vit_embeddings, filenames \u001b[39m=\u001b[39m extract_vit_embeddings(dataloader, device)\n\u001b[1;32m     <a href='vscode-notebook-cell://93dy3txedpeih7v.studio.us-east-2.sagemaker.aws/home/sagemaker-user/rc/test.ipynb#W2sdnNjb2RlLXJlbW90ZQ%3D%3D?line=69'>70</a>\u001b[0m \u001b[39m# Reshape embeddings for spatiotemporal attention (Batch, Time, Channels)\u001b[39;00m\n\u001b[1;32m     <a href='vscode-notebook-cell://93dy3txedpeih7v.studio.us-east-2.sagemaker.aws/home/sagemaker-user/rc/test.ipynb#W2sdnNjb2RlLXJlbW90ZQ%3D%3D?line=70'>71</a>\u001b[0m sequences \u001b[39m=\u001b[39m create_sequences(vit_embeddings, seq_len)\n",
      "\u001b[1;32m/home/sagemaker-user/rc/test.ipynb Cell 3\u001b[0m line \u001b[0;36m4\n\u001b[1;32m     <a href='vscode-notebook-cell://93dy3txedpeih7v.studio.us-east-2.sagemaker.aws/home/sagemaker-user/rc/test.ipynb#W2sdnNjb2RlLXJlbW90ZQ%3D%3D?line=46'>47</a>\u001b[0m         embeddings\u001b[39m.\u001b[39mappend(features\u001b[39m.\u001b[39mcpu()\u001b[39m.\u001b[39mnumpy())\n\u001b[1;32m     <a href='vscode-notebook-cell://93dy3txedpeih7v.studio.us-east-2.sagemaker.aws/home/sagemaker-user/rc/test.ipynb#W2sdnNjb2RlLXJlbW90ZQ%3D%3D?line=47'>48</a>\u001b[0m         filenames\u001b[39m.\u001b[39mextend(file_names)\n\u001b[0;32m---> <a href='vscode-notebook-cell://93dy3txedpeih7v.studio.us-east-2.sagemaker.aws/home/sagemaker-user/rc/test.ipynb#W2sdnNjb2RlLXJlbW90ZQ%3D%3D?line=48'>49</a>\u001b[0m \u001b[39mreturn\u001b[39;00m np\u001b[39m.\u001b[39;49marray(embeddings), filenames\n",
      "\u001b[0;31mValueError\u001b[0m: setting an array element with a sequence. The requested array has an inhomogeneous shape after 1 dimensions. The detected shape was (2,) + inhomogeneous part."
     ]
    }
   ],
   "source": [
    "folder_path = \"/home/sagemaker-user/rc/data/test\"\n",
    "output_embeddings, filenames = process_images_with_attention(folder_path)\n",
    "\n",
    "print(\"Processed embeddings shape:\", output_embeddings.shape)"
   ]
  },
  {
   "cell_type": "code",
   "execution_count": 5,
   "metadata": {},
   "outputs": [],
   "source": [
    "from torchvision import transforms\n",
    "from dataset import ImageDataset\n",
    "\n",
    "transform = transforms.Compose([\n",
    "    transforms.Resize((150, 150)),\n",
    "    transforms.Grayscale(num_output_channels=3),\n",
    "    transforms.ToTensor()\n",
    "])\n",
    "\n",
    "dataset = ImageDataset(\n",
    "    root_dir = \"data/UCSDped1/Train/\",\n",
    "    transform = transform\n",
    ")\n",
    "\n",
    "dataloader = DataLoader"
   ]
  },
  {
   "cell_type": "code",
   "execution_count": 7,
   "metadata": {},
   "outputs": [
    {
     "data": {
      "text/plain": [
       "torch.Size([10, 3, 150, 150])"
      ]
     },
     "execution_count": 7,
     "metadata": {},
     "output_type": "execute_result"
    }
   ],
   "source": [
    "dataset[1].shape"
   ]
  }
 ],
 "metadata": {
  "language_info": {
   "name": "python"
  }
 },
 "nbformat": 4,
 "nbformat_minor": 2
}
