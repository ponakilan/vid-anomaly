{
  "cells": [
    {
      "cell_type": "markdown",
      "metadata": {
        "id": "view-in-github",
        "colab_type": "text"
      },
      "source": [
        "<a href=\"https://colab.research.google.com/github/ponakilan/vid-anomaly/blob/main/MSTA_%2B_3D_Conv_IPAD.ipynb\" target=\"_parent\"><img src=\"https://colab.research.google.com/assets/colab-badge.svg\" alt=\"Open In Colab\"/></a>"
      ]
    },
    {
      "cell_type": "markdown",
      "metadata": {
        "id": "4PLG-ruq6zSg"
      },
      "source": [
        "## Connect Google Drive\n",
        "Mount google drive to:\n",
        "- Load dataset\n",
        "- Store and load model checkpoints"
      ]
    },
    {
      "cell_type": "code",
      "execution_count": 1,
      "metadata": {
        "colab": {
          "base_uri": "https://localhost:8080/"
        },
        "id": "jh6oTYaNu5Xn",
        "outputId": "cca9010f-8063-4a8c-eebf-254958099b94"
      },
      "outputs": [
        {
          "output_type": "stream",
          "name": "stdout",
          "text": [
            "Drive already mounted at /content/drive; to attempt to forcibly remount, call drive.mount(\"/content/drive\", force_remount=True).\n"
          ]
        }
      ],
      "source": [
        "from google.colab import drive, runtime\n",
        "drive.mount('/content/drive')"
      ]
    },
    {
      "cell_type": "code",
      "execution_count": 2,
      "metadata": {
        "id": "UJis6ZUt5yIA"
      },
      "outputs": [],
      "source": [
        "# ! 7z x '/content/drive/MyDrive/Research Credit/IPAD_dataset.zip'\n",
        "\n",
        "! unzip -q '/content/drive/MyDrive/Research Credit/IPAD_dataset.zip' 'IPAD_dataset/R01/*'"
      ]
    },
    {
      "cell_type": "code",
      "execution_count": 15,
      "metadata": {
        "id": "RsI5gvWxxHQD"
      },
      "outputs": [],
      "source": [
        "import os\n",
        "import torch\n",
        "\n",
        "torch.manual_seed(0)\n",
        "\n",
        "SEQ_LEN = 8\n",
        "EPOCHS = 20\n",
        "BATCH_SIZE = 7\n",
        "SCALES = [2, 4, 8, 10]\n",
        "\n",
        "DATA_ROOT = \"/content/IPAD_dataset/R01\"\n",
        "RC_ROOT = \"/content/drive/MyDrive/Research Credit\"\n",
        "\n",
        "TRAIN_DIR = f\"{DATA_ROOT}/training/frames\"\n",
        "TEST_DIR = f\"{DATA_ROOT}/testing/frames\"\n",
        "LABELS_PATH = f\"{DATA_ROOT}/test_label\"\n",
        "\n",
        "NUM = len(os.listdir(f\"{RC_ROOT}/Models\"))\n",
        "CKPT_PATH = f\"{RC_ROOT}/Models/ckpt_{SEQ_LEN}_{NUM}.pth\"\n",
        "TEST_SAVE_PATH = f\"{RC_ROOT}/Results/res_{NUM}.csv\"\n",
        "\n",
        "device = torch.device(\"cuda\" if torch.cuda.is_available() else \"cpu\")"
      ]
    },
    {
      "cell_type": "markdown",
      "metadata": {
        "id": "TeC4RlrK7GFN"
      },
      "source": [
        "## Define PyTorch Dataset\n",
        "- Load a sequence of frames from the given root directory.\n",
        "- Apply transforms.\n",
        "- Convert frames into 768-D embeddings using ViT.\n",
        "\n",
        "Returns the embedding and the original image for loss calculation."
      ]
    },
    {
      "cell_type": "code",
      "execution_count": 3,
      "metadata": {
        "id": "ER0yHG8UvaW9"
      },
      "outputs": [],
      "source": [
        "import math\n",
        "\n",
        "from PIL import Image\n",
        "from torchvision.datasets import DatasetFolder\n",
        "from torchvision.transforms import ToTensor, Resize, Compose\n",
        "from torch.utils.data import Dataset, DataLoader\n",
        "from transformers import ViTImageProcessor, ViTModel\n",
        "\n",
        "transform = Compose([\n",
        "    Resize((224, 224)),\n",
        "    ToTensor()\n",
        "])\n",
        "\n",
        "def load_image(path):\n",
        "    image = Image.open(path).convert(\"RGB\")\n",
        "    return image\n",
        "\n",
        "img_label_dataset = DatasetFolder(\n",
        "    root=TRAIN_DIR,\n",
        "    loader=load_image,\n",
        "    is_valid_file=lambda x: True\n",
        ")\n",
        "\n",
        "class ImgDataset(Dataset):\n",
        "    def __init__(self, dataset, seq_len=SEQ_LEN):\n",
        "        self.dataset = dataset\n",
        "        self.seq_len = seq_len\n",
        "\n",
        "    def __len__(self):\n",
        "        return math.ceil(len(self.dataset) / self.seq_len)\n",
        "\n",
        "    def __getitem__(self, idx):\n",
        "        start_idx = idx * self.seq_len\n",
        "        end_idx = min(start_idx + self.seq_len, len(self.dataset))\n",
        "        sequence = [self.dataset[i] for i in range(start_idx, end_idx)]\n",
        "        labels = [data[1] for data in sequence]\n",
        "        is_valid = all(label == labels[0] for label in labels)\n",
        "        if is_valid:\n",
        "            images = torch.stack([transform(data[0]) for data in sequence])\n",
        "            if len(images) < self.seq_len:\n",
        "                images = torch.cat([images, torch.zeros(self.seq_len - len(images), 3, 224, 224)])\n",
        "        else:\n",
        "            images = torch.zeros(self.seq_len, 3, 224, 224)\n",
        "\n",
        "        return images.permute(1, 0, 2, 3), images.permute(1, 0, 2, 3)"
      ]
    },
    {
      "cell_type": "markdown",
      "metadata": {
        "id": "sQhlhPpWgPaK"
      },
      "source": [
        "## MSTA"
      ]
    },
    {
      "cell_type": "code",
      "execution_count": 4,
      "metadata": {
        "id": "I71rwiOTgPIx"
      },
      "outputs": [],
      "source": [
        "import torch\n",
        "import torch.nn.functional as F\n",
        "from torch import nn\n",
        "\n",
        "class MultiScaleTemporalAttention(nn.Module):\n",
        "    def __init__(self, embed_dim, num_heads, device, scales=[2, 4, 8, 10]):\n",
        "        super().__init__()\n",
        "        self.scales = scales\n",
        "        self.attention_layers = nn.ModuleList([\n",
        "            nn.MultiheadAttention(embed_dim, num_heads).to(device) for _ in scales\n",
        "        ])\n",
        "\n",
        "    def forward(self, x):\n",
        "        B, T, D = x.shape\n",
        "        outputs = []\n",
        "\n",
        "        for i, window_size in enumerate(self.scales):\n",
        "            attn_device = next(self.attention_layers[i].parameters()).device\n",
        "            if window_size >= T:\n",
        "                q = k = v = x.transpose(0, 1).to(attn_device)\n",
        "                attn_output, _ = self.attention_layers[i](q, k, v)\n",
        "                outputs.append(attn_output.transpose(0, 1))\n",
        "            else:\n",
        "                local_outputs = []\n",
        "                for start in range(T - window_size + 1):\n",
        "                    chunk = x[:, start:start + window_size, :].to(attn_device)\n",
        "                    q = k = v = chunk.transpose(0, 1)\n",
        "                    attn_output, _ = self.attention_layers[i](q, k, v)\n",
        "                    local_outputs.append(attn_output.mean(0))\n",
        "                local_output = torch.stack(local_outputs, dim=1)\n",
        "                local_output = F.interpolate(local_output.transpose(1, 2), size=T, mode='linear').transpose(1, 2)\n",
        "                outputs.append(local_output)\n",
        "\n",
        "        final_output = torch.stack(outputs, dim=0).mean(0)\n",
        "        return final_output  # (B, T, D)"
      ]
    },
    {
      "cell_type": "markdown",
      "metadata": {
        "id": "w7t36LB0hgYi"
      },
      "source": [
        "## Vision Transformer"
      ]
    },
    {
      "cell_type": "code",
      "execution_count": 5,
      "metadata": {
        "id": "oU50sq2bgej9"
      },
      "outputs": [],
      "source": [
        "from transformers import ViTImageProcessor, ViTModel\n",
        "\n",
        "class ViT(nn.Module):\n",
        "    def __init__(self):\n",
        "        super().__init__()\n",
        "\n",
        "        self.device = torch.device(\"cuda\" if torch.cuda.is_available() else \"cpu\")\n",
        "        self.processor = ViTImageProcessor.from_pretrained('google/vit-base-patch16-224-in21k')\n",
        "        self.model = ViTModel.from_pretrained('google/vit-base-patch16-224-in21k').to(self.device)\n",
        "\n",
        "    def forward(self, x):\n",
        "        x = x.permute(0, 2, 1, 3, 4)\n",
        "        vectors = []\n",
        "        for images in x:\n",
        "            inputs = self.processor(\n",
        "                images=images,\n",
        "                return_tensors=\"pt\"\n",
        "            )\n",
        "            inputs = {k: v.to(self.device) for k, v in inputs.items()}\n",
        "            outputs = self.model(**inputs)\n",
        "            last_hidden_states = outputs.last_hidden_state\n",
        "            encoding = last_hidden_states[:, 0, :]\n",
        "            vectors.append(encoding)\n",
        "        vectors = torch.stack(vectors, dim=0)\n",
        "        return vectors"
      ]
    },
    {
      "cell_type": "markdown",
      "metadata": {
        "id": "HSwX9D-DWpKf"
      },
      "source": [
        "## 3D Conv"
      ]
    },
    {
      "cell_type": "code",
      "execution_count": 6,
      "metadata": {
        "id": "MYlfNURAWtmo"
      },
      "outputs": [],
      "source": [
        "import torch.nn as nn\n",
        "from functools import reduce\n",
        "from operator import mul\n",
        "import torch\n",
        "\n",
        "class Reconstruction3DEncoder(nn.Module):\n",
        "    def __init__(self, chnum_in):\n",
        "        super(Reconstruction3DEncoder, self).__init__()\n",
        "\n",
        "        # Dong Gong's paper code\n",
        "        self.chnum_in = chnum_in\n",
        "        feature_num = 128\n",
        "        feature_num_2 = 96\n",
        "        feature_num_x2 = 256\n",
        "        self.encoder = nn.Sequential(\n",
        "            nn.Conv3d(self.chnum_in, feature_num_2, (3, 3, 3), stride=(1, 2, 2), padding=(1, 1, 1)),\n",
        "            nn.BatchNorm3d(feature_num_2),\n",
        "            nn.LeakyReLU(0.2, inplace=True),\n",
        "            nn.Conv3d(feature_num_2, feature_num, (3, 3, 3), stride=(2, 2, 2), padding=(1, 1, 1)),\n",
        "            nn.BatchNorm3d(feature_num),\n",
        "            nn.LeakyReLU(0.2, inplace=True),\n",
        "            nn.Conv3d(feature_num, feature_num_x2, (3, 3, 3), stride=(2, 2, 2), padding=(1, 1, 1)),\n",
        "            nn.BatchNorm3d(feature_num_x2),\n",
        "            nn.LeakyReLU(0.2, inplace=True),\n",
        "            nn.Conv3d(feature_num_x2, feature_num_x2, (3, 3, 3), stride=(2, 2, 2), padding=(1, 1, 1)),\n",
        "            nn.BatchNorm3d(feature_num_x2),\n",
        "            nn.LeakyReLU(0.2, inplace=True)\n",
        "        )\n",
        "\n",
        "    def forward(self, x):\n",
        "        x = self.encoder(x)\n",
        "        return x\n",
        "\n",
        "\n",
        "class Reconstruction3DDecoder(nn.Module):\n",
        "    def __init__(self, chnum_in):\n",
        "        super(Reconstruction3DDecoder, self).__init__()\n",
        "\n",
        "        # Dong Gong's paper code + Tanh\n",
        "        self.chnum_in = chnum_in\n",
        "        feature_num = 128\n",
        "        feature_num_2 = 96\n",
        "        feature_num_x2 = 256\n",
        "        self.decoder = nn.Sequential(\n",
        "            nn.ConvTranspose3d(feature_num_x2, feature_num_x2, (3, 3, 3), stride=(2, 2, 2), padding=(1, 1, 1),\n",
        "                               output_padding=(1, 1, 1)),\n",
        "            nn.BatchNorm3d(feature_num_x2),\n",
        "            nn.LeakyReLU(0.2, inplace=True),\n",
        "            nn.ConvTranspose3d(feature_num_x2, feature_num, (3, 3, 3), stride=(2, 2, 2), padding=(1, 1, 1),\n",
        "                               output_padding=(1, 1, 1)),\n",
        "            nn.BatchNorm3d(feature_num),\n",
        "            nn.LeakyReLU(0.2, inplace=True),\n",
        "            nn.ConvTranspose3d(feature_num, feature_num_2, (3, 3, 3), stride=(2, 2, 2), padding=(1, 1, 1),\n",
        "                               output_padding=(1, 1, 1)),\n",
        "            nn.BatchNorm3d(feature_num_2),\n",
        "            nn.LeakyReLU(0.2, inplace=True),\n",
        "            nn.ConvTranspose3d(feature_num_2, self.chnum_in, (3, 3, 3), stride=(1, 2, 2), padding=(1, 1, 1),\n",
        "                               output_padding=(0, 1, 1)),\n",
        "            nn.Tanh()\n",
        "        )\n",
        "\n",
        "    def forward(self, x):\n",
        "        x = self.decoder(x)\n",
        "        return x"
      ]
    },
    {
      "cell_type": "markdown",
      "metadata": {
        "id": "HvenYlvsiY_B"
      },
      "source": [
        "## Frame reconstruction Model"
      ]
    },
    {
      "cell_type": "code",
      "execution_count": 12,
      "metadata": {
        "id": "WU4Wx9yzhoyF"
      },
      "outputs": [],
      "source": [
        "class FrameReconstructionModel(torch.nn.Module):\n",
        "    def __init__(self, seq_len=SEQ_LEN):\n",
        "        super(FrameReconstructionModel, self).__init__()\n",
        "\n",
        "        self.seq_len = seq_len\n",
        "        self.device = torch.device(\"cuda\" if torch.cuda.is_available() else \"cpu\")\n",
        "\n",
        "        self.vit = ViT()\n",
        "        self.attn = MultiScaleTemporalAttention(embed_dim=768, num_heads=8, device=self.device, scales=SCALES)\n",
        "\n",
        "        self.encoder = Reconstruction3DEncoder(chnum_in=3).to(self.device)\n",
        "        self.decoder = Reconstruction3DDecoder(chnum_in=3).to(self.device)\n",
        "\n",
        "        self.seq_dim = 768\n",
        "        self.seq_len = seq_len\n",
        "        self.spatial_channels = 256\n",
        "        self.merge_type = \"add\"\n",
        "\n",
        "        self.projection = nn.Linear(seq_len * self.seq_dim, self.spatial_channels)\n",
        "\n",
        "        self.activation = nn.ReLU()\n",
        "\n",
        "        if self.merge_type == 'both':\n",
        "            self.projection_add = nn.Linear(self.seq_len * self.seq_dim, self.spatial_channels)\n",
        "\n",
        "    def _merge(self, seq_embedding, spatial_embedding):\n",
        "        batch_size = seq_embedding.size(0)\n",
        "\n",
        "        seq_flat = seq_embedding.reshape(batch_size, -1)\n",
        "\n",
        "        channel_modulators = self.projection(seq_flat)\n",
        "\n",
        "        channel_modulators = self.activation(channel_modulators)\n",
        "\n",
        "        modulators = channel_modulators.view(batch_size, self.spatial_channels, 1, 1, 1)\n",
        "\n",
        "        if self.merge_type == 'mul':\n",
        "            return spatial_embedding * modulators\n",
        "\n",
        "        elif self.merge_type == 'add':\n",
        "            return spatial_embedding + modulators\n",
        "\n",
        "        elif self.merge_type == 'both':\n",
        "            add_modulators = self.projection_add(seq_flat)\n",
        "            add_modulators = self.activation(add_modulators)\n",
        "            add_modulators = add_modulators.view(batch_size, self.spatial_channels, 1, 1, 1)\n",
        "\n",
        "            result = spatial_embedding * modulators + add_modulators\n",
        "            return result\n",
        "\n",
        "    def forward(self, images):\n",
        "        x = self.vit(images)\n",
        "        sequential_embedding = self.attn(x)\n",
        "        spatial_embedding = self.encoder(images)\n",
        "        merged_embedding = self._merge(sequential_embedding, spatial_embedding)\n",
        "        output = self.decoder(merged_embedding)\n",
        "\n",
        "        return output"
      ]
    },
    {
      "cell_type": "code",
      "execution_count": 13,
      "metadata": {
        "colab": {
          "base_uri": "https://localhost:8080/"
        },
        "id": "O7WOHDb-inIe",
        "outputId": "5bec1832-39fb-4243-d7a8-04164fe95d27"
      },
      "outputs": [
        {
          "output_type": "execute_result",
          "data": {
            "text/plain": [
              "torch.Size([1, 3, 8, 224, 224])"
            ]
          },
          "metadata": {},
          "execution_count": 13
        }
      ],
      "source": [
        "# Test\n",
        "dataset = ImgDataset(img_label_dataset)\n",
        "model = FrameReconstructionModel().to(device)\n",
        "data = dataset[0][0].unsqueeze(0).to(device)\n",
        "model(data).shape"
      ]
    },
    {
      "cell_type": "markdown",
      "metadata": {
        "id": "rMTW_b2O8nfI"
      },
      "source": [
        "# Training"
      ]
    },
    {
      "cell_type": "code",
      "execution_count": 14,
      "metadata": {
        "colab": {
          "base_uri": "https://localhost:8080/",
          "height": 489
        },
        "id": "L-i6rLMBWzKR",
        "outputId": "881e95e2-4ce0-4cab-dadf-888c268717d7"
      },
      "outputs": [
        {
          "output_type": "stream",
          "name": "stdout",
          "text": [
            "Number of samples: 976\n"
          ]
        },
        {
          "output_type": "display_data",
          "data": {
            "text/plain": [
              "<IPython.core.display.HTML object>"
            ],
            "text/html": [
              "\n",
              "<style>\n",
              "    /* Turns off some styling */\n",
              "    progress {\n",
              "        /* gets rid of default border in Firefox and Opera. */\n",
              "        border: none;\n",
              "        /* Needs to be in here for Safari polyfill so background images work as expected. */\n",
              "        background-size: auto;\n",
              "    }\n",
              "    progress:not([value]), progress:not([value])::-webkit-progress-bar {\n",
              "        background: repeating-linear-gradient(45deg, #7e7e7e, #7e7e7e 10px, #5c5c5c 10px, #5c5c5c 20px);\n",
              "    }\n",
              "    .progress-bar-interrupted, .progress-bar-interrupted::-webkit-progress-bar {\n",
              "        background: #F44336;\n",
              "    }\n",
              "</style>\n"
            ]
          },
          "metadata": {}
        },
        {
          "output_type": "display_data",
          "data": {
            "text/plain": [
              "<IPython.core.display.HTML object>"
            ],
            "text/html": []
          },
          "metadata": {}
        },
        {
          "output_type": "execute_result",
          "data": {
            "text/plain": [
              "SuggestedLRs(valley=0.0003981071640737355)"
            ]
          },
          "metadata": {},
          "execution_count": 14
        },
        {
          "output_type": "display_data",
          "data": {
            "text/plain": [
              "<Figure size 640x480 with 1 Axes>"
            ],
            "image/png": "[encoded data removed]"
          },
          "metadata": {}
        }
      ],
      "source": [
        "from fastai.vision.learner import Learner\n",
        "from torch.utils.data import random_split\n",
        "from fastai.vision.all import *\n",
        "\n",
        "dataset = ImgDataset(img_label_dataset)\n",
        "print(f\"Number of samples: {len(dataset)}\")\n",
        "\n",
        "model = FrameReconstructionModel().to(device)\n",
        "# model = FrameReconstructionModel(device=device).to(device)\n",
        "loss_func = MSELossFlat()\n",
        "\n",
        "train_size = int(0.85 * len(dataset))\n",
        "valid_size = len(dataset) - train_size\n",
        "train_ds, valid_ds = random_split(dataset, [train_size, valid_size])\n",
        "\n",
        "train_dl = DataLoader(train_ds, batch_size=BATCH_SIZE, shuffle=True)\n",
        "valid_dl = DataLoader(valid_ds, batch_size=BATCH_SIZE, shuffle=False)\n",
        "dls = DataLoaders(train_dl, valid_dl)\n",
        "\n",
        "learn = Learner(dls=dls, model=model, loss_func=loss_func, opt_func=Adam)\n",
        "\n",
        "learn.lr_find()"
      ]
    },
    {
      "cell_type": "code",
      "execution_count": 16,
      "metadata": {
        "id": "wZaqr_s2XED3",
        "colab": {
          "base_uri": "https://localhost:8080/",
          "height": 537
        },
        "outputId": "f90052b0-c260-4114-b167-0b4bea06fa7b"
      },
      "outputs": [
        {
          "output_type": "display_data",
          "data": {
            "text/plain": [
              "<IPython.core.display.HTML object>"
            ],
            "text/html": [
              "\n",
              "<style>\n",
              "    /* Turns off some styling */\n",
              "    progress {\n",
              "        /* gets rid of default border in Firefox and Opera. */\n",
              "        border: none;\n",
              "        /* Needs to be in here for Safari polyfill so background images work as expected. */\n",
              "        background-size: auto;\n",
              "    }\n",
              "    progress:not([value]), progress:not([value])::-webkit-progress-bar {\n",
              "        background: repeating-linear-gradient(45deg, #7e7e7e, #7e7e7e 10px, #5c5c5c 10px, #5c5c5c 20px);\n",
              "    }\n",
              "    .progress-bar-interrupted, .progress-bar-interrupted::-webkit-progress-bar {\n",
              "        background: #F44336;\n",
              "    }\n",
              "</style>\n"
            ]
          },
          "metadata": {}
        },
        {
          "output_type": "display_data",
          "data": {
            "text/plain": [
              "<IPython.core.display.HTML object>"
            ],
            "text/html": [
              "<table border=\"1\" class=\"dataframe\">\n",
              "  <thead>\n",
              "    <tr style=\"text-align: left;\">\n",
              "      <th>epoch</th>\n",
              "      <th>train_loss</th>\n",
              "      <th>valid_loss</th>\n",
              "      <th>time</th>\n",
              "    </tr>\n",
              "  </thead>\n",
              "  <tbody>\n",
              "    <tr>\n",
              "      <td>0</td>\n",
              "      <td>0.043310</td>\n",
              "      <td>0.014459</td>\n",
              "      <td>05:08</td>\n",
              "    </tr>\n",
              "  </tbody>\n",
              "</table>"
            ]
          },
          "metadata": {}
        },
        {
          "output_type": "display_data",
          "data": {
            "text/plain": [
              "<IPython.core.display.HTML object>"
            ],
            "text/html": [
              "\n",
              "<style>\n",
              "    /* Turns off some styling */\n",
              "    progress {\n",
              "        /* gets rid of default border in Firefox and Opera. */\n",
              "        border: none;\n",
              "        /* Needs to be in here for Safari polyfill so background images work as expected. */\n",
              "        background-size: auto;\n",
              "    }\n",
              "    progress:not([value]), progress:not([value])::-webkit-progress-bar {\n",
              "        background: repeating-linear-gradient(45deg, #7e7e7e, #7e7e7e 10px, #5c5c5c 10px, #5c5c5c 20px);\n",
              "    }\n",
              "    .progress-bar-interrupted, .progress-bar-interrupted::-webkit-progress-bar {\n",
              "        background: #F44336;\n",
              "    }\n",
              "</style>\n"
            ]
          },
          "metadata": {}
        },
        {
          "output_type": "display_data",
          "data": {
            "text/plain": [
              "<IPython.core.display.HTML object>"
            ],
            "text/html": [
              "<table border=\"1\" class=\"dataframe\">\n",
              "  <thead>\n",
              "    <tr style=\"text-align: left;\">\n",
              "      <th>epoch</th>\n",
              "      <th>train_loss</th>\n",
              "      <th>valid_loss</th>\n",
              "      <th>time</th>\n",
              "    </tr>\n",
              "  </thead>\n",
              "  <tbody>\n",
              "    <tr>\n",
              "      <td>0</td>\n",
              "      <td>0.010214</td>\n",
              "      <td>0.009211</td>\n",
              "      <td>05:09</td>\n",
              "    </tr>\n",
              "    <tr>\n",
              "      <td>1</td>\n",
              "      <td>0.006354</td>\n",
              "      <td>0.004935</td>\n",
              "      <td>05:09</td>\n",
              "    </tr>\n",
              "    <tr>\n",
              "      <td>2</td>\n",
              "      <td>0.004802</td>\n",
              "      <td>0.004338</td>\n",
              "      <td>05:08</td>\n",
              "    </tr>\n",
              "    <tr>\n",
              "      <td>3</td>\n",
              "      <td>0.002886</td>\n",
              "      <td>0.002423</td>\n",
              "      <td>05:07</td>\n",
              "    </tr>\n",
              "    <tr>\n",
              "      <td>4</td>\n",
              "      <td>0.002438</td>\n",
              "      <td>0.002187</td>\n",
              "      <td>05:08</td>\n",
              "    </tr>\n",
              "    <tr>\n",
              "      <td>5</td>\n",
              "      <td>0.002041</td>\n",
              "      <td>0.001707</td>\n",
              "      <td>05:08</td>\n",
              "    </tr>\n",
              "    <tr>\n",
              "      <td>6</td>\n",
              "      <td>0.002013</td>\n",
              "      <td>0.003996</td>\n",
              "      <td>05:07</td>\n",
              "    </tr>\n",
              "    <tr>\n",
              "      <td>7</td>\n",
              "      <td>0.001792</td>\n",
              "      <td>0.001172</td>\n",
              "      <td>05:07</td>\n",
              "    </tr>\n",
              "    <tr>\n",
              "      <td>8</td>\n",
              "      <td>0.001449</td>\n",
              "      <td>0.001172</td>\n",
              "      <td>05:07</td>\n",
              "    </tr>\n",
              "    <tr>\n",
              "      <td>9</td>\n",
              "      <td>0.001202</td>\n",
              "      <td>0.001023</td>\n",
              "      <td>05:08</td>\n",
              "    </tr>\n",
              "    <tr>\n",
              "      <td>10</td>\n",
              "      <td>0.000940</td>\n",
              "      <td>0.000906</td>\n",
              "      <td>05:07</td>\n",
              "    </tr>\n",
              "    <tr>\n",
              "      <td>11</td>\n",
              "      <td>0.000907</td>\n",
              "      <td>0.000912</td>\n",
              "      <td>05:07</td>\n",
              "    </tr>\n",
              "    <tr>\n",
              "      <td>12</td>\n",
              "      <td>0.000839</td>\n",
              "      <td>0.000819</td>\n",
              "      <td>05:07</td>\n",
              "    </tr>\n",
              "  </tbody>\n",
              "</table>"
            ]
          },
          "metadata": {}
        },
        {
          "output_type": "stream",
          "name": "stdout",
          "text": [
            "No improvement since epoch 10: early stopping\n"
          ]
        }
      ],
      "source": [
        "learn.fine_tune(EPOCHS, cbs=[\n",
        "    SaveModelCallback(monitor='valid_loss', fname=CKPT_PATH, every_epoch=True),\n",
        "    EarlyStoppingCallback(monitor='valid_loss', min_delta=0.0001, patience=2)\n",
        "])"
      ]
    },
    {
      "cell_type": "code",
      "execution_count": 17,
      "metadata": {
        "id": "iqU0cEeufJxl",
        "colab": {
          "base_uri": "https://localhost:8080/"
        },
        "outputId": "0b8a88e1-8ff1-496c-ba3f-51a1ffea94bd"
      },
      "outputs": [
        {
          "output_type": "stream",
          "name": "stdout",
          "text": [
            "Model saved to /content/drive/MyDrive/Research Credit/Models/ckpt_8_3.pth\n"
          ]
        }
      ],
      "source": [
        "torch.save(learn.model.state_dict(), CKPT_PATH)\n",
        "print(f\"Model saved to {CKPT_PATH}\")"
      ]
    },
    {
      "cell_type": "markdown",
      "metadata": {
        "id": "c0WF_a8N8gWq"
      },
      "source": [
        "# Testing"
      ]
    },
    {
      "cell_type": "code",
      "execution_count": 20,
      "metadata": {
        "id": "FBpf1ZWTe17w"
      },
      "outputs": [],
      "source": [
        "import os\n",
        "\n",
        "import torch\n",
        "import numpy as np\n",
        "\n",
        "def load_model_from_ckpt(state_dict_path: str):\n",
        "    model = FrameReconstructionModel()\n",
        "    model.load_state_dict(torch.load(state_dict_path, map_location=\"cpu\", weights_only=False))\n",
        "\n",
        "    return model\n",
        "\n",
        "def load_test_frames(test_dir: str, seq_len: int):\n",
        "    test_dataset = DatasetFolder(\n",
        "        root=test_dir,\n",
        "        loader=load_image,\n",
        "        transform=Compose([\n",
        "            Resize((224, 224)),\n",
        "            ToTensor()\n",
        "        ]),\n",
        "        is_valid_file=lambda x: True\n",
        "    )\n",
        "\n",
        "    test_dataset = ImgDataset(test_dataset, seq_len=seq_len)\n",
        "\n",
        "    return test_dataset\n",
        "\n",
        "def load_labels(labels_path: str, seq_len: int):\n",
        "    label_files = os.listdir(labels_path)\n",
        "    labels = []\n",
        "    for label_file in label_files:\n",
        "        label = np.load(f\"{labels_path}/{label_file}\")\n",
        "        labels.append(label)\n",
        "\n",
        "    labels = np.hstack(labels)\n",
        "    labels = labels.tolist()\n",
        "\n",
        "    labels_seq = []\n",
        "    for i in range(0, len(labels), seq_len):\n",
        "        temp = labels[i:i+seq_len]\n",
        "        if all(label == temp[0] for label in temp):\n",
        "            labels_seq.append(1)\n",
        "        else:\n",
        "            labels_seq.append(0)\n",
        "\n",
        "    return labels_seq"
      ]
    },
    {
      "cell_type": "code",
      "execution_count": 21,
      "metadata": {
        "id": "12WE-MBghtFD",
        "colab": {
          "base_uri": "https://localhost:8080/"
        },
        "outputId": "7600b34b-ec28-40b2-e43d-d5a410ebd87e"
      },
      "outputs": [
        {
          "output_type": "stream",
          "name": "stderr",
          "text": [
            "100%|██████████| 461/461 [01:12<00:00,  6.39it/s]\n"
          ]
        }
      ],
      "source": [
        "from tqdm import tqdm\n",
        "import pandas as pd\n",
        "from fastai.vision.all import *\n",
        "\n",
        "test_dataset = load_test_frames(TEST_DIR, SEQ_LEN)\n",
        "test_labels = load_labels(LABELS_PATH, SEQ_LEN)\n",
        "\n",
        "# model = load_model_from_ckpt(\"/content/drive/MyDrive/Research Credit/Models/ckpt_10_0.pth\")\n",
        "model = load_model_from_ckpt(CKPT_PATH)\n",
        "model.to(device)\n",
        "model.eval()\n",
        "\n",
        "loss_func = MSELossFlat()\n",
        "\n",
        "errors = []\n",
        "for i in tqdm(range(len(test_dataset))):\n",
        "    embed, image = test_dataset[i]\n",
        "    embed, image = embed.to(device).unsqueeze(0), image.to(device).unsqueeze(0)\n",
        "\n",
        "    with torch.no_grad():\n",
        "        reconstructed = model(embed)\n",
        "        error = loss_func(reconstructed, image)\n",
        "    errors.append(error.cpu().item())\n",
        "\n",
        "    del embed, image, reconstructed, error\n",
        "    torch.cuda.empty_cache()"
      ]
    },
    {
      "cell_type": "code",
      "execution_count": 22,
      "metadata": {
        "id": "ib6QiQ62pkoj",
        "colab": {
          "base_uri": "https://localhost:8080/"
        },
        "outputId": "01563a18-a01d-459b-e093-d59769ea4c6f"
      },
      "outputs": [
        {
          "output_type": "stream",
          "name": "stdout",
          "text": [
            "Test results saved to /content/drive/MyDrive/Research Credit/Results/res_3.csv.\n"
          ]
        }
      ],
      "source": [
        "if len(errors) == len(test_labels):\n",
        "    result_df = pd.DataFrame({\n",
        "        \"error\": errors,\n",
        "        \"label\": test_labels\n",
        "    })\n",
        "    result_df.to_csv(TEST_SAVE_PATH, index=False)\n",
        "    print(f\"Test results saved to {TEST_SAVE_PATH}.\")\n",
        "\n",
        "else:\n",
        "    print(\"Results saving failed.\")"
      ]
    },
    {
      "cell_type": "markdown",
      "metadata": {
        "id": "9rWlcvIikTkp"
      },
      "source": [
        "### Analysis"
      ]
    },
    {
      "cell_type": "code",
      "execution_count": 23,
      "metadata": {
        "id": "v5_MgndGnx_L",
        "colab": {
          "base_uri": "https://localhost:8080/",
          "height": 206
        },
        "outputId": "7c6404fe-8d5b-4021-a987-ba3975a652a8"
      },
      "outputs": [
        {
          "output_type": "execute_result",
          "data": {
            "text/plain": [
              "      error  label\n",
              "0  0.002809      1\n",
              "1  0.002909      1\n",
              "2  0.002962      1\n",
              "3  0.002965      0\n",
              "4  0.003033      1"
            ],
            "text/html": [
              "\n",
              "  <div id=\"df-be95e4b1-cd36-4ec4-9089-dea68eaf23f7\" class=\"colab-df-container\">\n",
              "    <div>\n",
              "<style scoped>\n",
              "    .dataframe tbody tr th:only-of-type {\n",
              "        vertical-align: middle;\n",
              "    }\n",
              "\n",
              "    .dataframe tbody tr th {\n",
              "        vertical-align: top;\n",
              "    }\n",
              "\n",
              "    .dataframe thead th {\n",
              "        text-align: right;\n",
              "    }\n",
              "</style>\n",
              "<table border=\"1\" class=\"dataframe\">\n",
              "  <thead>\n",
              "    <tr style=\"text-align: right;\">\n",
              "      <th></th>\n",
              "      <th>error</th>\n",
              "      <th>label</th>\n",
              "    </tr>\n",
              "  </thead>\n",
              "  <tbody>\n",
              "    <tr>\n",
              "      <th>0</th>\n",
              "      <td>0.002809</td>\n",
              "      <td>1</td>\n",
              "    </tr>\n",
              "    <tr>\n",
              "      <th>1</th>\n",
              "      <td>0.002909</td>\n",
              "      <td>1</td>\n",
              "    </tr>\n",
              "    <tr>\n",
              "      <th>2</th>\n",
              "      <td>0.002962</td>\n",
              "      <td>1</td>\n",
              "    </tr>\n",
              "    <tr>\n",
              "      <th>3</th>\n",
              "      <td>0.002965</td>\n",
              "      <td>0</td>\n",
              "    </tr>\n",
              "    <tr>\n",
              "      <th>4</th>\n",
              "      <td>0.003033</td>\n",
              "      <td>1</td>\n",
              "    </tr>\n",
              "  </tbody>\n",
              "</table>\n",
              "</div>\n",
              "    <div class=\"colab-df-buttons\">\n",
              "\n",
              "  <div class=\"colab-df-container\">\n",
              "    <button class=\"colab-df-convert\" onclick=\"convertToInteractive('df-be95e4b1-cd36-4ec4-9089-dea68eaf23f7')\"\n",
              "            title=\"Convert this dataframe to an interactive table.\"\n",
              "            style=\"display:none;\">\n",
              "\n",
              "  <svg xmlns=\"http://www.w3.org/2000/svg\" height=\"24px\" viewBox=\"0 -960 960 960\">\n",
              "    <path d=\"M120-120v-720h720v720H120Zm60-500h600v-160H180v160Zm220 220h160v-160H400v160Zm0 220h160v-160H400v160ZM180-400h160v-160H180v160Zm440 0h160v-160H620v160ZM180-180h160v-160H180v160Zm440 0h160v-160H620v160Z\"/>\n",
              "  </svg>\n",
              "    </button>\n",
              "\n",
              "  <style>\n",
              "    .colab-df-container {\n",
              "      display:flex;\n",
              "      gap: 12px;\n",
              "    }\n",
              "\n",
              "    .colab-df-convert {\n",
              "      background-color: #E8F0FE;\n",
              "      border: none;\n",
              "      border-radius: 50%;\n",
              "      cursor: pointer;\n",
              "      display: none;\n",
              "      fill: #1967D2;\n",
              "      height: 32px;\n",
              "      padding: 0 0 0 0;\n",
              "      width: 32px;\n",
              "    }\n",
              "\n",
              "    .colab-df-convert:hover {\n",
              "      background-color: #E2EBFA;\n",
              "      box-shadow: 0px 1px 2px rgba(60, 64, 67, 0.3), 0px 1px 3px 1px rgba(60, 64, 67, 0.15);\n",
              "      fill: #174EA6;\n",
              "    }\n",
              "\n",
              "    .colab-df-buttons div {\n",
              "      margin-bottom: 4px;\n",
              "    }\n",
              "\n",
              "    [theme=dark] .colab-df-convert {\n",
              "      background-color: #3B4455;\n",
              "      fill: #D2E3FC;\n",
              "    }\n",
              "\n",
              "    [theme=dark] .colab-df-convert:hover {\n",
              "      background-color: #434B5C;\n",
              "      box-shadow: 0px 1px 3px 1px rgba(0, 0, 0, 0.15);\n",
              "      filter: drop-shadow(0px 1px 2px rgba(0, 0, 0, 0.3));\n",
              "      fill: #FFFFFF;\n",
              "    }\n",
              "  </style>\n",
              "\n",
              "    <script>\n",
              "      const buttonEl =\n",
              "        document.querySelector('#df-be95e4b1-cd36-4ec4-9089-dea68eaf23f7 button.colab-df-convert');\n",
              "      buttonEl.style.display =\n",
              "        google.colab.kernel.accessAllowed ? 'block' : 'none';\n",
              "\n",
              "      async function convertToInteractive(key) {\n",
              "        const element = document.querySelector('#df-be95e4b1-cd36-4ec4-9089-dea68eaf23f7');\n",
              "        const dataTable =\n",
              "          await google.colab.kernel.invokeFunction('convertToInteractive',\n",
              "                                                    [key], {});\n",
              "        if (!dataTable) return;\n",
              "\n",
              "        const docLinkHtml = 'Like what you see? Visit the ' +\n",
              "          '<a target=\"_blank\" href=https://colab.research.google.com/notebooks/data_table.ipynb>data table notebook</a>'\n",
              "          + ' to learn more about interactive tables.';\n",
              "        element.innerHTML = '';\n",
              "        dataTable['output_type'] = 'display_data';\n",
              "        await google.colab.output.renderOutput(dataTable, element);\n",
              "        const docLink = document.createElement('div');\n",
              "        docLink.innerHTML = docLinkHtml;\n",
              "        element.appendChild(docLink);\n",
              "      }\n",
              "    </script>\n",
              "  </div>\n",
              "\n",
              "\n",
              "<div id=\"df-dd462f0a-b1f0-41f2-815c-6bef11e6ab4a\">\n",
              "  <button class=\"colab-df-quickchart\" onclick=\"quickchart('df-dd462f0a-b1f0-41f2-815c-6bef11e6ab4a')\"\n",
              "            title=\"Suggest charts\"\n",
              "            style=\"display:none;\">\n",
              "\n",
              "<svg xmlns=\"http://www.w3.org/2000/svg\" height=\"24px\"viewBox=\"0 0 24 24\"\n",
              "     width=\"24px\">\n",
              "    <g>\n",
              "        <path d=\"M19 3H5c-1.1 0-2 .9-2 2v14c0 1.1.9 2 2 2h14c1.1 0 2-.9 2-2V5c0-1.1-.9-2-2-2zM9 17H7v-7h2v7zm4 0h-2V7h2v10zm4 0h-2v-4h2v4z\"/>\n",
              "    </g>\n",
              "</svg>\n",
              "  </button>\n",
              "\n",
              "<style>\n",
              "  .colab-df-quickchart {\n",
              "      --bg-color: #E8F0FE;\n",
              "      --fill-color: #1967D2;\n",
              "      --hover-bg-color: #E2EBFA;\n",
              "      --hover-fill-color: #174EA6;\n",
              "      --disabled-fill-color: #AAA;\n",
              "      --disabled-bg-color: #DDD;\n",
              "  }\n",
              "\n",
              "  [theme=dark] .colab-df-quickchart {\n",
              "      --bg-color: #3B4455;\n",
              "      --fill-color: #D2E3FC;\n",
              "      --hover-bg-color: #434B5C;\n",
              "      --hover-fill-color: #FFFFFF;\n",
              "      --disabled-bg-color: #3B4455;\n",
              "      --disabled-fill-color: #666;\n",
              "  }\n",
              "\n",
              "  .colab-df-quickchart {\n",
              "    background-color: var(--bg-color);\n",
              "    border: none;\n",
              "    border-radius: 50%;\n",
              "    cursor: pointer;\n",
              "    display: none;\n",
              "    fill: var(--fill-color);\n",
              "    height: 32px;\n",
              "    padding: 0;\n",
              "    width: 32px;\n",
              "  }\n",
              "\n",
              "  .colab-df-quickchart:hover {\n",
              "    background-color: var(--hover-bg-color);\n",
              "    box-shadow: 0 1px 2px rgba(60, 64, 67, 0.3), 0 1px 3px 1px rgba(60, 64, 67, 0.15);\n",
              "    fill: var(--button-hover-fill-color);\n",
              "  }\n",
              "\n",
              "  .colab-df-quickchart-complete:disabled,\n",
              "  .colab-df-quickchart-complete:disabled:hover {\n",
              "    background-color: var(--disabled-bg-color);\n",
              "    fill: var(--disabled-fill-color);\n",
              "    box-shadow: none;\n",
              "  }\n",
              "\n",
              "  .colab-df-spinner {\n",
              "    border: 2px solid var(--fill-color);\n",
              "    border-color: transparent;\n",
              "    border-bottom-color: var(--fill-color);\n",
              "    animation:\n",
              "      spin 1s steps(1) infinite;\n",
              "  }\n",
              "\n",
              "  @keyframes spin {\n",
              "    0% {\n",
              "      border-color: transparent;\n",
              "      border-bottom-color: var(--fill-color);\n",
              "      border-left-color: var(--fill-color);\n",
              "    }\n",
              "    20% {\n",
              "      border-color: transparent;\n",
              "      border-left-color: var(--fill-color);\n",
              "      border-top-color: var(--fill-color);\n",
              "    }\n",
              "    30% {\n",
              "      border-color: transparent;\n",
              "      border-left-color: var(--fill-color);\n",
              "      border-top-color: var(--fill-color);\n",
              "      border-right-color: var(--fill-color);\n",
              "    }\n",
              "    40% {\n",
              "      border-color: transparent;\n",
              "      border-right-color: var(--fill-color);\n",
              "      border-top-color: var(--fill-color);\n",
              "    }\n",
              "    60% {\n",
              "      border-color: transparent;\n",
              "      border-right-color: var(--fill-color);\n",
              "    }\n",
              "    80% {\n",
              "      border-color: transparent;\n",
              "      border-right-color: var(--fill-color);\n",
              "      border-bottom-color: var(--fill-color);\n",
              "    }\n",
              "    90% {\n",
              "      border-color: transparent;\n",
              "      border-bottom-color: var(--fill-color);\n",
              "    }\n",
              "  }\n",
              "</style>\n",
              "\n",
              "  <script>\n",
              "    async function quickchart(key) {\n",
              "      const quickchartButtonEl =\n",
              "        document.querySelector('#' + key + ' button');\n",
              "      quickchartButtonEl.disabled = true;  // To prevent multiple clicks.\n",
              "      quickchartButtonEl.classList.add('colab-df-spinner');\n",
              "      try {\n",
              "        const charts = await google.colab.kernel.invokeFunction(\n",
              "            'suggestCharts', [key], {});\n",
              "      } catch (error) {\n",
              "        console.error('Error during call to suggestCharts:', error);\n",
              "      }\n",
              "      quickchartButtonEl.classList.remove('colab-df-spinner');\n",
              "      quickchartButtonEl.classList.add('colab-df-quickchart-complete');\n",
              "    }\n",
              "    (() => {\n",
              "      let quickchartButtonEl =\n",
              "        document.querySelector('#df-dd462f0a-b1f0-41f2-815c-6bef11e6ab4a button');\n",
              "      quickchartButtonEl.style.display =\n",
              "        google.colab.kernel.accessAllowed ? 'block' : 'none';\n",
              "    })();\n",
              "  </script>\n",
              "</div>\n",
              "\n",
              "    </div>\n",
              "  </div>\n"
            ],
            "application/vnd.google.colaboratory.intrinsic+json": {
              "type": "dataframe",
              "variable_name": "test_df",
              "summary": "{\n  \"name\": \"test_df\",\n  \"rows\": 461,\n  \"fields\": [\n    {\n      \"column\": \"error\",\n      \"properties\": {\n        \"dtype\": \"number\",\n        \"std\": 0.0017138706319169714,\n        \"min\": 0.0002721037599258,\n        \"max\": 0.0346687510609626,\n        \"num_unique_values\": 451,\n        \"samples\": [\n          0.0030331297311931,\n          0.0029653101228177,\n          0.0027643220964819\n        ],\n        \"semantic_type\": \"\",\n        \"description\": \"\"\n      }\n    },\n    {\n      \"column\": \"label\",\n      \"properties\": {\n        \"dtype\": \"number\",\n        \"std\": 0,\n        \"min\": 0,\n        \"max\": 1,\n        \"num_unique_values\": 2,\n        \"samples\": [\n          0,\n          1\n        ],\n        \"semantic_type\": \"\",\n        \"description\": \"\"\n      }\n    }\n  ]\n}"
            }
          },
          "metadata": {},
          "execution_count": 23
        }
      ],
      "source": [
        "import pandas as pd\n",
        "\n",
        "# TEST_SAVE_PATH = \"/content/drive/MyDrive/Research Credit/Results/res_1.csv\"\n",
        "\n",
        "test_df = pd.read_csv(TEST_SAVE_PATH)\n",
        "test_df.head()"
      ]
    },
    {
      "cell_type": "code",
      "execution_count": 24,
      "metadata": {
        "id": "rRQ4TRLXptiU",
        "colab": {
          "base_uri": "https://localhost:8080/"
        },
        "outputId": "5cdb82fc-5d42-49ce-e289-9cc7d898d3ac"
      },
      "outputs": [
        {
          "output_type": "stream",
          "name": "stdout",
          "text": [
            "Optimal threshold: 0.0028604923281818\n",
            "AUC at best threshold: 0.5687120485778203\n"
          ]
        }
      ],
      "source": [
        "import numpy as np\n",
        "from sklearn.metrics import roc_curve, auc\n",
        "\n",
        "errors = test_df['error'].values\n",
        "labels = test_df['label'].values\n",
        "\n",
        "fpr, tpr, thresholds = roc_curve(labels, errors)\n",
        "\n",
        "j_scores = tpr - fpr\n",
        "optimal_threshold = thresholds[np.argmax(j_scores)]\n",
        "print(f\"Optimal threshold: {optimal_threshold}\")\n",
        "\n",
        "binary_predictions = (errors >= optimal_threshold).astype(int)\n",
        "\n",
        "fpr_best, tpr_best, _ = roc_curve(labels, binary_predictions)\n",
        "auc_at_best_threshold = auc(fpr_best, tpr_best)\n",
        "\n",
        "print(f\"AUC at best threshold: {auc_at_best_threshold}\")"
      ]
    },
    {
      "cell_type": "code",
      "execution_count": 25,
      "metadata": {
        "id": "37zcQpWlpZ1n",
        "colab": {
          "base_uri": "https://localhost:8080/",
          "height": 472
        },
        "outputId": "949814b5-2010-4d63-a418-a63a09123d52"
      },
      "outputs": [
        {
          "output_type": "display_data",
          "data": {
            "text/plain": [
              "<Figure size 640x480 with 1 Axes>"
            ],
            "image/png": "[encoded data removed]"
          },
          "metadata": {}
        }
      ],
      "source": [
        "import matplotlib.pyplot as plt\n",
        "\n",
        "plt.plot(fpr, tpr, label='ROC curve')\n",
        "plt.scatter(fpr[np.argmax(j_scores)], tpr[np.argmax(j_scores)], marker='o', color='red', label='Optimal Threshold')\n",
        "plt.xlabel('False Positive Rate')\n",
        "plt.ylabel('True Positive Rate')\n",
        "plt.title('Receiver Operating Characteristic (ROC) Curve')\n",
        "plt.legend()\n",
        "plt.show()"
      ]
    },
    {
      "cell_type": "code",
      "execution_count": null,
      "metadata": {
        "id": "pYaQ1Pbt7BLi"
      },
      "outputs": [],
      "source": [
        "drive.flush_and_unmount()\n",
        "runtime.unassign()"
      ]
    }
  ],
  "metadata": {
    "colab": {
      "provenance": [],
      "gpuType": "T4",
      "include_colab_link": true
    },
    "kernelspec": {
      "display_name": "Python 3",
      "name": "python3"
    },
    "language_info": {
      "name": "python"
    },
    "accelerator": "GPU"
  },
  "nbformat": 4,
  "nbformat_minor": 0
}